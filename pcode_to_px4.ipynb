{
 "cells": [
  {
   "cell_type": "code",
   "execution_count": 49,
   "id": "solar-shipping",
   "metadata": {},
   "outputs": [],
   "source": [
    "import json\n",
    "import zlib\n",
    "import base64"
   ]
  },
  {
   "cell_type": "code",
   "execution_count": 50,
   "id": "closing-graphics",
   "metadata": {},
   "outputs": [],
   "source": [
    "try:\n",
    "    f = open(\"px4_fmu-v5_default.px4\",\"r\")\n",
    "    desc = json.load(f)\n",
    "    f.close()\n",
    "except:\n",
    "    print(\"whoops\")\n",
    "#print(desc.keys())\n",
    "dkeys=list(desc.keys())\n",
    "#for i in range(len(desc.keys())):\n",
    "#    if dkeys[i]!= 'image':\n",
    "#        print(desc[dkeys[i]])\n",
    "\n",
    "def pcode_to_px4(pcode_file,px4_param_file,output):\n",
    "    try:\n",
    "        #get copyable parameters from  px4_param_file\n",
    "        with open(px4_param_file,\"r\") as f2:\n",
    "            px4_parameters=json.load(f2)\n",
    "        new_px4_parameters={}\n",
    "        copy_keys=['board_id','magic','description','build_time','summary','version','image_maxsize','git_identity','board_revision','git_hash','mav_autopilot','parameter_xml_size','parameter_xml','airframe_xml_size','airframe.xml']\n",
    "        non_copy=['image','image_size']\n",
    "        #unsure about image_maxsize\n",
    "        #then copy those over\n",
    "        print(px4_parameters.keys())\n",
    "        for key in px4_parameters.keys():\n",
    "            if key not in non_copy:\n",
    "                new_px4_parameters[key]=px4_parameters[key]\n",
    "        \n",
    "        #encode + compress image\n",
    "        with open(pcode_file,\"rb\") as f1:\n",
    "\n",
    "            bytes=f1.read()\n",
    "            print(\"deez\")\n",
    "            new_px4_parameters['image_size']=len(bytes)\n",
    "            print(len(bytes))\n",
    "            new_px4_parameters['image']=base64.b64encode(zlib.compress(bytes,9)).decode('utf-8')\n",
    "        print(new_px4_parameters.keys())\n",
    "        #write image\n",
    "        with open(output,\"w\") as f3:\n",
    "            #print(new_px4_parameters)\n",
    "            dataObj=json.dumps(new_px4_parameters,indent=4)\n",
    "            #print(dataObj)\n",
    "            f3.write(dataObj)\n",
    "    except Exception as e:\n",
    "        print(e)\n",
    "\n",
    "\n",
    "#firm_bytes=zlib.decompress(base64.b64decode(desc[\"image\"].encode('utf-8')))\n",
    "#g= open(\"px4_output.pxx4\",\"wb\")\n",
    "#g.write(firm_bytes)\n",
    "#g.close()"
   ]
  },
  {
   "cell_type": "code",
   "execution_count": 48,
   "id": "4e62dd99",
   "metadata": {},
   "outputs": [
    {
     "name": "stdout",
     "output_type": "stream",
     "text": [
      "dict_keys(['board_id', 'magic', 'description', 'image', 'build_time', 'summary', 'version', 'image_size', 'image_maxsize', 'git_identity', 'board_revision', 'git_hash', 'parameter_xml_size', 'parameter_xml', 'mav_autopilot', 'airframe_xml_size', 'airframe_xml'])\n",
      "deez\n",
      "1894353\n",
      "dict_keys(['board_id', 'magic', 'description', 'build_time', 'summary', 'version', 'image_maxsize', 'git_identity', 'board_revision', 'git_hash', 'parameter_xml_size', 'parameter_xml', 'mav_autopilot', 'airframe_xml_size', 'airframe_xml', 'image_size', 'image'])\n"
     ]
    }
   ],
   "source": [
    "pcode_to_px4(\"px4_output\",\"px4_fmu-v5_default.px4\",\"px4_cracked.px4\")\n"
   ]
  },
  {
   "cell_type": "code",
   "execution_count": null,
   "id": "presidential-launch",
   "metadata": {},
   "outputs": [],
   "source": []
  }
 ],
 "metadata": {
  "interpreter": {
   "hash": "916dbcbb3f70747c44a77c7bcd40155683ae19c65e1c03b4aa3499c5328201f1"
  },
  "kernelspec": {
   "display_name": "Python 3.9.2 64-bit",
   "name": "python3"
  },
  "language_info": {
   "codemirror_mode": {
    "name": "ipython",
    "version": 3
   },
   "file_extension": ".py",
   "mimetype": "text/x-python",
   "name": "python",
   "nbconvert_exporter": "python",
   "pygments_lexer": "ipython3",
   "version": "3.8.10"
  }
 },
 "nbformat": 4,
 "nbformat_minor": 5
}
