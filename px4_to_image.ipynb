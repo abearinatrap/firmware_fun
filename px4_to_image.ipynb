{
 "cells": [
  {
   "cell_type": "code",
   "execution_count": 1,
   "id": "solar-shipping",
   "metadata": {},
   "outputs": [],
   "source": [
    "import json\n",
    "import zlib\n",
    "import base64"
   ]
  },
  {
   "cell_type": "code",
   "execution_count": 2,
   "metadata": {},
   "outputs": [],
   "source": [
    "try:\n",
    "    f = open(\"px4_fmu-v5_default.px4\",\"r\")\n",
    "    desc = json.load(f)\n",
    "    f.close()\n",
    "except:\n",
    "    print(\"whoops\")\n",
    "    \n",
    "def writeImage(name):\n",
    "    firm_bytes=zlib.decompress(base64.b64decode(desc[\"image\"].encode('utf-8')))\n",
    "    g= open(name,\"wb\")\n",
    "    g.write(firm_bytes)\n",
    "    g.close()\n",
    "def writeParamXML(name):\n",
    "    param_bytes=zlib.decompress(base64.b64decode(desc[\"parameter_xml\"].encode('utf-8')))\n",
    "    g= open(name,\"wb\")\n",
    "    g.write(param_bytes)\n",
    "    g.close()\n",
    "def writeAirframeXML(name):\n",
    "    param_bytes=zlib.decompress(base64.b64decode(desc[\"airframe_xml\"].encode('utf-8')))\n",
    "    g= open(name,\"wb\")\n",
    "    g.write(param_bytes)\n",
    "    g.close()"
   ]
  },
  {
   "cell_type": "code",
   "execution_count": 17,
   "id": "closing-graphics",
   "metadata": {},
   "outputs": [],
   "source": [
    "\n",
    "writeParamXML(\"param.xml\")\n",
    "writeAirframeXML(\"airframe.xml\")\n",
    "#writeImage(\"px4_output\")"
   ]
  },
  {
   "cell_type": "code",
   "execution_count": 5,
   "id": "presidential-launch",
   "metadata": {},
   "outputs": [
    {
     "name": "stdout",
     "output_type": "stream",
     "text": [
      "dict_keys(['board_id', 'magic', 'description', 'image', 'build_time', 'summary', 'version', 'image_size', 'image_maxsize', 'git_identity', 'board_revision', 'git_hash', 'parameter_xml_size', 'parameter_xml', 'mav_autopilot', 'airframe_xml_size', 'airframe_xml'])\n",
      "50\n",
      "PX4FWv1\n",
      "Firmware for the PX4FMUv5 board\n",
      "1630946367\n",
      "PX4FMUv5\n",
      "0.1\n",
      "1894353\n",
      "2064384\n",
      "v1.12.3\n",
      "0\n",
      "2e8918da66af37922ededee1cc2d2efffec4cfb2\n",
      "628794\n",
      "12\n",
      "46065\n"
     ]
    }
   ],
   "source": [
    "print(desc.keys())\n",
    "for key in desc.keys():\n",
    "    if key not in ['image','parameter_xml','airframe_xml']:\n",
    "        print(desc[key])"
   ]
  }
 ],
 "metadata": {
  "interpreter": {
   "hash": "916dbcbb3f70747c44a77c7bcd40155683ae19c65e1c03b4aa3499c5328201f1"
  },
  "kernelspec": {
   "display_name": "Python 3.9.2 64-bit",
   "name": "python3"
  },
  "language_info": {
   "codemirror_mode": {
    "name": "ipython",
    "version": 3
   },
   "file_extension": ".py",
   "mimetype": "text/x-python",
   "name": "python",
   "nbconvert_exporter": "python",
   "pygments_lexer": "ipython3",
   "version": "3.8.10"
  }
 },
 "nbformat": 4,
 "nbformat_minor": 5
}
