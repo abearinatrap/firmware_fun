{
 "cells": [
  {
   "cell_type": "code",
   "execution_count": 7,
   "id": "solar-shipping",
   "metadata": {},
   "outputs": [],
   "source": [
    "import json\n",
    "import zlib\n",
    "import base64"
   ]
  },
  {
   "cell_type": "code",
   "execution_count": 9,
   "id": "closing-graphics",
   "metadata": {},
   "outputs": [],
   "source": [
    "try:\n",
    "    f = open(\"px4_fmu-v5_default.px4\",\"r\")\n",
    "    desc = json.load(f)\n",
    "    f.close()\n",
    "except:\n",
    "    print(\"whoops\")\n",
    "firm_bytes=zlib.decompress(base64.b64decode(desc[\"image\"].encode('utf-8')))\n",
    "g= open(\"px4_output.pxx4\",\"wb\")\n",
    "g.write(firm_bytes)\n",
    "g.close()"
   ]
  },
  {
   "cell_type": "code",
   "execution_count": null,
   "id": "presidential-launch",
   "metadata": {},
   "outputs": [],
   "source": []
  }
 ],
 "metadata": {
  "kernelspec": {
   "display_name": "Python 3",
   "language": "python",
   "name": "python3"
  },
  "language_info": {
   "codemirror_mode": {
    "name": "ipython",
    "version": 3
   },
   "file_extension": ".py",
   "mimetype": "text/x-python",
   "name": "python",
   "nbconvert_exporter": "python",
   "pygments_lexer": "ipython3",
   "version": "3.7.10"
  }
 },
 "nbformat": 4,
 "nbformat_minor": 5
}
